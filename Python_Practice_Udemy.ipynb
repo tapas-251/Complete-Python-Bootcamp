{
  "nbformat": 4,
  "nbformat_minor": 0,
  "metadata": {
    "colab": {
      "provenance": [],
      "collapsed_sections": [],
      "include_colab_link": true
    },
    "kernelspec": {
      "name": "python3",
      "display_name": "Python 3"
    },
    "language_info": {
      "name": "python"
    }
  },
  "cells": [
    {
      "cell_type": "markdown",
      "metadata": {
        "id": "view-in-github",
        "colab_type": "text"
      },
      "source": [
        "<a href=\"https://colab.research.google.com/github/tapas-251/Complete-Python-Bootcamp/blob/master/Python_Practice_Udemy.ipynb\" target=\"_parent\"><img src=\"https://colab.research.google.com/assets/colab-badge.svg\" alt=\"Open In Colab\"/></a>"
      ]
    },
    {
      "cell_type": "code",
      "execution_count": null,
      "metadata": {
        "colab": {
          "base_uri": "https://localhost:8080/"
        },
        "id": "ohsu-tKJp1iC",
        "outputId": "345df4c7-14fe-4613-bbf9-647429426489"
      },
      "outputs": [
        {
          "output_type": "stream",
          "name": "stdout",
          "text": [
            "Hello World\n"
          ]
        }
      ],
      "source": [
        "print(\"Hello World\")"
      ]
    },
    {
      "cell_type": "code",
      "source": [
        "a = input(\"a: \")\n",
        "b = input(\"b: \")\n",
        "c = a\n",
        "a = b\n",
        "b = c\n",
        "print(\"a: \" + a)\n",
        "print(\"b: \" + b)"
      ],
      "metadata": {
        "colab": {
          "base_uri": "https://localhost:8080/"
        },
        "id": "b52_kXxpqMlf",
        "outputId": "d661ca8a-2289-4d9c-d750-7683c0bcf993"
      },
      "execution_count": null,
      "outputs": [
        {
          "output_type": "stream",
          "name": "stdout",
          "text": [
            "a: 2\n",
            "b: 3\n",
            "a: 3\n",
            "b: 2\n"
          ]
        }
      ]
    },
    {
      "cell_type": "code",
      "source": [
        "print(\"Welcome to the band name genrator.\")\n",
        "city = input(\"Which city did you grow up in?\\n\")\n",
        "pet = input(\"What is the name of a pet?\\n\")\n",
        "print(\"Your band name could be \" + city + \" \" + pet)\n"
      ],
      "metadata": {
        "colab": {
          "base_uri": "https://localhost:8080/"
        },
        "id": "iNLQZrNS3qZd",
        "outputId": "fb8e1982-312e-47c6-dba5-fdccee4bc94a"
      },
      "execution_count": null,
      "outputs": [
        {
          "output_type": "stream",
          "name": "stdout",
          "text": [
            "Welcome to the band name genrator.\n",
            "Which city did you grow up in?\n",
            "BBSR\n",
            "What is the name of a pet?\n",
            "Raka\n",
            "Your band name could be BBSR Raka\n"
          ]
        }
      ]
    },
    {
      "cell_type": "code",
      "source": [
        "#BMI Calculator\n",
        "height = input(\"enter your height in m: \")\n",
        "weight = input(\"enter your weight in kg: \")\n",
        "w = float(weight)\n",
        "h = float(height)\n",
        "BMI = (w/(h**2))\n",
        "int_BMI = int(BMI)\n",
        "print(int_BMI)"
      ],
      "metadata": {
        "colab": {
          "base_uri": "https://localhost:8080/"
        },
        "id": "Mjmr56KJ4TCq",
        "outputId": "b1687b54-e3f3-4164-e80c-ff5df11568f4"
      },
      "execution_count": null,
      "outputs": [
        {
          "output_type": "stream",
          "name": "stdout",
          "text": [
            "enter your height in m: 1.6\n",
            "enter your weight in kg: 104\n",
            "40\n"
          ]
        }
      ]
    },
    {
      "cell_type": "code",
      "source": [
        "# 🚨 Don't change the code below 👇\n",
        "age = input(\"What is your current age?\")\n",
        "# 🚨 Don't change the code above 👆\n",
        "\n",
        "#Write your code below this line 👇\n",
        "new_age = 85 - int(age)\n",
        "days = new_age * 365\n",
        "weeks = new_age * 52\n",
        "months = new_age * 12\n",
        "print(f\"You have {days} days, {weeks} weeks, and {months} months left.\")"
      ],
      "metadata": {
        "colab": {
          "base_uri": "https://localhost:8080/"
        },
        "id": "ePr_oFpJCSQc",
        "outputId": "50000f22-4aff-42ba-da3a-763dc0a10088"
      },
      "execution_count": 6,
      "outputs": [
        {
          "output_type": "stream",
          "name": "stdout",
          "text": [
            "What is your current age?40\n",
            "You have 16425 days, 2340 weeks, and 540 months left.\n"
          ]
        }
      ]
    },
    {
      "cell_type": "code",
      "source": [
        "# 🚨 Don't change the code below 👇\n",
        "two_digit_number = input(\"Type a two digit number: \")\n",
        "# 🚨 Don't change the code above 👆\n",
        "\n",
        "####################################\n",
        "#Write your code below this line 👇\n",
        "first_digit = two_digit_number[0]\n",
        "second_digit = two_digit_number[1]\n",
        "print(first_digit)\n",
        "print(second_digit)\n",
        "result = first_digit + second_digit\n",
        "print(result)\n",
        "result_1 = int(first_digit) + int(second_digit)\n",
        "print(result_1)"
      ],
      "metadata": {
        "colab": {
          "base_uri": "https://localhost:8080/"
        },
        "id": "nyAcVfe0G-VH",
        "outputId": "1424fa04-56f7-41d0-ee76-3c552d2f4673"
      },
      "execution_count": null,
      "outputs": [
        {
          "output_type": "stream",
          "name": "stdout",
          "text": [
            "Type a two digit number: 42\n",
            "4\n",
            "2\n",
            "42\n",
            "6\n"
          ]
        }
      ]
    },
    {
      "cell_type": "code",
      "source": [
        "#If the bill was $150.00, split between 5 people, with 12% tip. \n",
        "\n",
        "#Each person should pay (150.00 / 5) * 1.12 = 33.6\n",
        "#Format the result to 2 decimal places = 33.60\n",
        "\n",
        "#Tip: There are 2 ways to round a number. You might have to do some Googling to solve this.💪\n",
        "\n",
        "#Write your code below this line \n",
        "\n",
        "print(\"Welcome to the tip calculator!\")\n",
        "bill = float(input(\"What was the total bill? $\"))\n",
        "tip = int(input(\"How much tip would you like to give? 10, 12, or 15? \"))\n",
        "people = int(input(\"How many people to split the bill?\"))\n",
        "bill_with_tip = tip / 100 * bill + bill\n",
        "print(bill_with_tip)\n",
        "tip_as_percent = tip / 100\n",
        "total_tip_amount = bill * tip_as_percent\n",
        "total_bill = bill + total_tip_amount\n",
        "bill_per_person = total_bill / people\n",
        "final_amount = round(bill_per_person, 2)\n",
        "final_amount = \"{:.2f}\".format(bill_per_person)\n",
        "print(f\"Each person should pay: ${final_amount}\")"
      ],
      "metadata": {
        "colab": {
          "base_uri": "https://localhost:8080/"
        },
        "id": "owX5XgnDKaib",
        "outputId": "230983c3-6abe-4a9d-d5e7-7e29cf776f5e"
      },
      "execution_count": null,
      "outputs": [
        {
          "output_type": "stream",
          "name": "stdout",
          "text": [
            "Welcome to the tip calculator!\n",
            "What was the total bill? $2306\n",
            "How much tip would you like to give? 10, 12, or 15? 12\n",
            "How many people to split the bill?2\n",
            "2582.72\n",
            "Each person should pay: $1291.36\n"
          ]
        }
      ]
    },
    {
      "cell_type": "code",
      "source": [
        "# 🚨 Don't change the code below 👇\n",
        "number = int(input(\"Which number do you want to check? \"))\n",
        "# 🚨 Don't change the code above 👆\n",
        "\n",
        "#Write your code below this line 👇\n",
        "if number % 2 == 0:\n",
        "    print(\"This is an even number.\")\n",
        "else:\n",
        "    print(\"This is an odd number.\")"
      ],
      "metadata": {
        "id": "Jv4UNtHTV3u6"
      },
      "execution_count": null,
      "outputs": []
    },
    {
      "cell_type": "code",
      "source": [
        "print(\"Welcome to the rollercoaster!\")\n",
        "height = int(input(\"What is your height in cm?\"))\n",
        "\n",
        "if height >= 120:\n",
        "    print(\"You can ride the rollercoaster!\")\n",
        "    age = int(input(\"What is your age?\"))\n",
        "    if age <= 18:\n",
        "      print(\"Please pay $7.\")\n",
        "    else:\n",
        "      print(\"Please pay $12.\") \n",
        "else:\n",
        "    print(\"Sorry, you have to grow taller before you can ride.\")"
      ],
      "metadata": {
        "colab": {
          "base_uri": "https://localhost:8080/"
        },
        "id": "WxzuWvAAX5yX",
        "outputId": "cc3e5bcd-786a-45b1-dcae-fdb7b23930a2"
      },
      "execution_count": null,
      "outputs": [
        {
          "output_type": "stream",
          "name": "stdout",
          "text": [
            "Welcome to the rollercoaster!\n",
            "What is your height in cm?140\n",
            "You can ride the rollercoaster!\n",
            "What is your age?21\n",
            "Please pay $12.\n"
          ]
        }
      ]
    },
    {
      "cell_type": "code",
      "source": [
        "print(\"Welcome to the rollercoaster!\")\n",
        "height = int(input(\"What is your height in cm? \\n\"))\n",
        "\n",
        "if height >= 120:\n",
        "    print(\"You can ride the rollercoaster!\")\n",
        "    age = int(input(\"What is your age? \\n\"))\n",
        "    if age < 12:\n",
        "      print(\"Please pay $5.\")\n",
        "    elif age <= 18:\n",
        "      print(\"Please pay $7.\")\n",
        "    else:\n",
        "      print(\"Please pay $12.\") \n",
        "else:\n",
        "    print(\"Sorry, you have to grow taller before you can ride.\")"
      ],
      "metadata": {
        "colab": {
          "base_uri": "https://localhost:8080/"
        },
        "id": "LiTWppRsaEIc",
        "outputId": "7c89deb0-a6a6-4ccf-cfbf-f367f5fe915b"
      },
      "execution_count": null,
      "outputs": [
        {
          "output_type": "stream",
          "name": "stdout",
          "text": [
            "Welcome to the rollercoaster!\n",
            "What is your height in cm? \n",
            "120\n",
            "You can ride the rollercoaster!\n",
            "What is your age? \n",
            "14\n",
            "Please pay $7.\n"
          ]
        }
      ]
    },
    {
      "cell_type": "code",
      "source": [
        "# 🚨 Don't change the code below 👇\n",
        "height = float(input(\"enter your height in m: \"))\n",
        "weight = float(input(\"enter your weight in kg: \"))\n",
        "# 🚨 Don't change the code above 👆\n",
        "\n",
        "#Write your code below this line 👇\n",
        "bmi = round(weight / (height**2))\n",
        "if bmi < 18.5:\n",
        "    print(f\"Your BMI is {bmi}, you are underweight.\")\n",
        "elif bmi < 25:\n",
        "    print(f\"Your BMI is {bmi}, you have a normal weight.\")\n",
        "elif bmi < 30:\n",
        "    print(f\"Your BMI is {bmi}, you are slightly overweight.\")\n",
        "elif bmi < 35:\n",
        "    print(f\"Your BMI is {bmi}, you are obese.\") \n",
        "else:\n",
        "    print(f\"Your BMI is {bmi}, clinically obese.\")"
      ],
      "metadata": {
        "id": "pt0UKHb7fO_G"
      },
      "execution_count": null,
      "outputs": []
    },
    {
      "cell_type": "code",
      "source": [
        "# 🚨 Don't change the code below 👇\n",
        "year = int(input(\"Which year do you want to check? \"))\n",
        "# 🚨 Don't change the code above 👆\n",
        "\n",
        "#Write your code below this line 👇\n",
        "\n",
        "if year % 4 == 0:\n",
        "    if year % 100 == 0:\n",
        "        if year % 400 == 0:\n",
        "            print(\"Leap year.\")\n",
        "        else:\n",
        "            print(\"Not leap year.\")\n",
        "    else:\n",
        "        print(\"Leap year\")\n",
        "else:\n",
        "    print(\"Not leap year.\")"
      ],
      "metadata": {
        "id": "esyLsptPkbAF"
      },
      "execution_count": null,
      "outputs": []
    },
    {
      "cell_type": "code",
      "source": [
        "print(\"Welcome to the rollercoaster!\")\n",
        "height = int(input(\"What is your height in cm? \\n\"))\n",
        "bill = 0\n",
        "\n",
        "if height >= 120:\n",
        "    print(\"You can ride the rollercoaster!\")\n",
        "    age = int(input(\"What is your age? \\n\"))\n",
        "    if age < 12:\n",
        "      bill = 5\n",
        "      print(\"Child tickets are $5.\")\n",
        "    elif age <= 18:\n",
        "      bill = 7\n",
        "      print(\"Youth tickets are $7.\")\n",
        "    else:\n",
        "      bill = 12\n",
        "      print(\"Adult tickets are $12.\")\n",
        "  \n",
        "\n",
        "    wants_photo =   input(\"Do you want a photo? Y or N.\\n\")\n",
        "    if wants_photo == \"Y\":\n",
        "      bill += 3\n",
        "\n",
        "    print(f\"Your final bill is {bill}\")  \n",
        "\n",
        "else:\n",
        "    print(\"Sorry, you have to grow taller before you can ride.\")"
      ],
      "metadata": {
        "colab": {
          "base_uri": "https://localhost:8080/"
        },
        "id": "cIjZErQqmrov",
        "outputId": "8db75699-06d0-47b8-e9e2-08a3bcf10ca4"
      },
      "execution_count": null,
      "outputs": [
        {
          "output_type": "stream",
          "name": "stdout",
          "text": [
            "Welcome to the rollercoaster!\n",
            "What is your height in cm? \n",
            "110\n",
            "Sorry, you have to grow taller before you can ride.\n"
          ]
        }
      ]
    },
    {
      "cell_type": "code",
      "source": [
        "# 🚨 Don't change the code below 👇\n",
        "print(\"Welcome to Python Pizza Deliveries!\")\n",
        "size = input(\"What size pizza do you want? S, M, or L \")\n",
        "add_pepperoni = input(\"Do you want pepperoni? Y or N \")\n",
        "extra_cheese = input(\"Do you want extra cheese? Y or N \")\n",
        "# 🚨 Don't change the code above 👆\n",
        "\n",
        "#Write your code below this line 👇\n",
        "bill = 0\n",
        "if size == \"S\":\n",
        "    bill += 15\n",
        "elif size == \"M\":\n",
        "    bill += 20\n",
        "elif size == \"L\":\n",
        "    bill += 25\n",
        "\n",
        "if add_pepperoni == \"Y\":\n",
        "    if size == \"S\":\n",
        "        bill += 2\n",
        "    else:\n",
        "        bill += 3\n",
        "if extra_cheese == \"Y\":\n",
        "    bill += 1\n",
        "\n",
        "print(f\"Your final bill is: ${bill}.\")"
      ],
      "metadata": {
        "id": "2oNGQ0r200Up"
      },
      "execution_count": null,
      "outputs": []
    },
    {
      "cell_type": "code",
      "source": [
        "print(\"Welcome to the rollercoaster!\")\n",
        "height = int(input(\"What is your height in cm? \\n\"))\n",
        "bill = 0\n",
        "\n",
        "if height >= 120:\n",
        "    print(\"You can ride the rollercoaster!\")\n",
        "    age = int(input(\"What is your age? \\n\"))\n",
        "    if age < 12:\n",
        "      bill = 5\n",
        "      print(\"Child tickets are $5.\")\n",
        "    elif age <= 18:\n",
        "      bill = 7\n",
        "      print(\"Youth tickets are $7.\")\n",
        "    elif age >= 45 and age <= 55:\n",
        "      print(\"Everything is going to be ok. Have a free ride on us!\")\n",
        "    else:\n",
        "      bill = 12\n",
        "      print(\"Adult tickets are $12.\")\n",
        "  \n",
        "\n",
        "    wants_photo =   input(\"Do you want a photo? Y or N.\\n\")\n",
        "    if wants_photo == \"Y\":\n",
        "      bill += 3\n",
        "\n",
        "    print(f\"Your final bill is {bill}\")  \n",
        "\n",
        "else:\n",
        "    print(\"Sorry, you have to grow taller before you can ride.\")"
      ],
      "metadata": {
        "colab": {
          "base_uri": "https://localhost:8080/"
        },
        "id": "N_32dg4F18OB",
        "outputId": "b18dc340-82d1-4c63-8d27-40ac7c0ba632"
      },
      "execution_count": null,
      "outputs": [
        {
          "output_type": "stream",
          "name": "stdout",
          "text": [
            "Welcome to the rollercoaster!\n",
            "What is your height in cm? \n",
            "140\n",
            "You can ride the rollercoaster!\n",
            "What is your age? \n",
            "46\n",
            "Everything is going to b ok. Have a free ride on us!\n",
            "Do you want a photo? Y or N.\n",
            "N\n",
            "Your final bill is 0\n"
          ]
        }
      ]
    },
    {
      "cell_type": "code",
      "source": [
        "# 🚨 Don't change the code below 👇\n",
        "print(\"Welcome to the Love Calculator!\")\n",
        "name1 = input(\"What is your name? \\n\")\n",
        "name2 = input(\"What is their name? \\n\")\n",
        "# 🚨 Don't change the code above 👆\n",
        "\n",
        "#Write your code below this line 👇\n",
        "\n",
        "combined_string = name1 + name2\n",
        "lower_case_string = combined_string.lower()\n",
        "\n",
        "t = lower_case_string.count(\"t\")\n",
        "r = lower_case_string.count(\"r\")\n",
        "u = lower_case_string.count(\"u\")\n",
        "e = lower_case_string.count(\"e\")\n",
        "\n",
        "true = t + r + u + e\n",
        "\n",
        "l = lower_case_string.count(\"l\")\n",
        "o = lower_case_string.count(\"o\")\n",
        "v = lower_case_string.count(\"v\")\n",
        "e = lower_case_string.count(\"e\")\n",
        "\n",
        "love = l + o + v + e\n",
        "\n",
        "love_score = int(str(true) + str(love))\n",
        "\n",
        "if (love_score < 10) or (love_score > 90):\n",
        "    print(f\"Your score is {love_score}, you go together like coke and mentos.\")\n",
        "elif (love_score >= 40) and (love_score <= 50):\n",
        "    print(f\"Your score is {love_score}, you are alright together.\")\n",
        "else:\n",
        "    print(f\"Your score is {love_score}.\")"
      ],
      "metadata": {
        "colab": {
          "base_uri": "https://localhost:8080/"
        },
        "id": "wMj3lfOq-VfJ",
        "outputId": "814da68e-aa45-4ba4-f4b7-7c1a0ca8eb8d"
      },
      "execution_count": null,
      "outputs": [
        {
          "output_type": "stream",
          "name": "stdout",
          "text": [
            "Welcome to the Love Calculator!\n",
            "What is your name? \n",
            "Banya Baisali Mishra\n",
            "What is their name? \n",
            "Aadit Kumar Das\n",
            "Your score is 41, you are alright together.\n"
          ]
        }
      ]
    },
    {
      "cell_type": "code",
      "source": [
        "print('''\n",
        "*******************************************************************************\n",
        "          |                   |                  |                     |\n",
        " _________|________________.=\"\"_;=.______________|_____________________|_______\n",
        "|                   |  ,-\"_,=\"\"     `\"=.|                  |\n",
        "|___________________|__\"=._o`\"-._        `\"=.______________|___________________\n",
        "          |                `\"=._o`\"=._      _`\"=._                     |\n",
        " _________|_____________________:=._o \"=._.\"_.-=\"'\"=.__________________|_______\n",
        "|                   |    __.--\" , ; `\"=._o.\" ,-\"\"\"-._ \".   |\n",
        "|___________________|_._\"  ,. .` ` `` ,  `\"-._\"-._   \". '__|___________________\n",
        "          |           |o`\"=._` , \"` `; .\". ,  \"-._\"-._; ;              |\n",
        " _________|___________| ;`-.o`\"=._; .\" ` '`.\"\\` . \"-._ /_______________|_______\n",
        "|                   | |o;    `\"-.o`\"=._``  '` \" ,__.--o;   |\n",
        "|___________________|_| ;     (#) `-.o `\"=.`_.--\"_o.-; ;___|___________________\n",
        "____/______/______/___|o;._    \"      `\".o|o_.--\"    ;o;____/______/______/____\n",
        "/______/______/______/_\"=._o--._        ; | ;        ; ;/______/______/______/_\n",
        "____/______/______/______/__\"=._o--._   ;o|o;     _._;o;____/______/______/____\n",
        "/______/______/______/______/____\"=._o._; | ;_.--\"o.--\"_/______/______/______/_\n",
        "____/______/______/______/______/_____\"=.o|o_.--\"\"___/______/______/______/____\n",
        "/______/______/______/______/______/______/______/______/______/______/_____ /\n",
        "*******************************************************************************\n",
        "''')\n",
        "print(\"Welcome to Treasure Island.\")\n",
        "print(\"Your mission is to find the treasure.\")\n",
        "\n",
        "#Write your code below this line 👇\n",
        "\n",
        "choice1 = input('You\\'re at a cross road. Where do you want to go? Type \"left\" or \"right\" \\n').lower()\n",
        "if choice1 == \"left\":\n",
        "  choice2 = input('You\\'ve come to a lake. There is an island in the middle of the lake. Type \"wait\" to wait for a boat. Type \"swim\" to swim across. \\n').lower()\n",
        "  if choice2 == \"wait\":\n",
        "    choice3 = input(\"You arrive at the island unharmed. There is a house with 3 doors. One red, one yellow and one blue. Which colour do you choose? \\n\").lower()\n",
        "    if choice3 == \"red\":\n",
        "      print(\"It's a room full of fire. Game Over.\")\n",
        "    elif choice3 == \"yellow\":\n",
        "      print(\"You found the treasure! You Win!\")\n",
        "    elif choice3 == \"blue\":\n",
        "      print(\"You enter a room of beasts. Game Over.\")\n",
        "    else:\n",
        "      print(\"You chose a door that doesn't exist. Game Over.\")\n",
        "  else:\n",
        "    print(\"You get attacked by an angry trout. Game Over.\")\n",
        "else:\n",
        "  print(\"You fell into a hole. Game Over.\")"
      ],
      "metadata": {
        "id": "mxQluTodN5Ms"
      },
      "execution_count": null,
      "outputs": []
    },
    {
      "cell_type": "code",
      "source": [
        "#Remember to use the random module\n",
        "#Hint: Remember to import the random module here at the top of the file. ??\n",
        "import random\n",
        " \n",
        "# ?? Don't change the code below ??\n",
        "test_seed = int(input(\"Create a seed number: \"))\n",
        "random.seed(test_seed)\n",
        " # ?? Don't change the code above ?? It's only for testing your code.\n",
        "\t \n",
        "#Write the rest of your code below this line ??\n",
        "\n",
        "random_side = random.randint(0,1)\n",
        "if random_side == 1:\n",
        "  print(\"Heads\")\n",
        "else:\n",
        "  print(\"Tails\")"
      ],
      "metadata": {
        "colab": {
          "base_uri": "https://localhost:8080/"
        },
        "id": "FODAcUpNHKjM",
        "outputId": "d49abb6a-3c01-4542-c57d-6ec89601a4fd"
      },
      "execution_count": null,
      "outputs": [
        {
          "output_type": "stream",
          "name": "stdout",
          "text": [
            "Create a seed number: 2345\n",
            "Heads\n"
          ]
        }
      ]
    },
    {
      "cell_type": "code",
      "source": [
        "# list and index. Please note that indexing start from 0 and if we type -1 then it return the last item in the list\n",
        "fruits = [\"Cherry\", \"Apple\", \"Pear\",\"Guava\"]\n",
        "print(fruits[0])\n",
        "\n",
        "# Alter item name in the list\n",
        "fruits = [\"Cherry\", \"Apple\", \"Pear\",\"Guava\"]\n",
        "fruits[1] = \"apple\"\n",
        "print(fruits)\n",
        "\n",
        "# Add a new item in the list\n",
        "fruits = [\"Cherry\", \"Apple\", \"Pear\",\"Guava\"]\n",
        "fruits.append(\"Jackfruit\")\n",
        "print(fruits)\n",
        "\n",
        "# https://docs.python.org/3/tutorial/datastructures.html\n",
        "\n"
      ],
      "metadata": {
        "colab": {
          "base_uri": "https://localhost:8080/"
        },
        "id": "EgLkEnrb-LKP",
        "outputId": "3ebdb5d7-39c8-47b6-9888-aeb24580928e"
      },
      "execution_count": null,
      "outputs": [
        {
          "output_type": "stream",
          "name": "stdout",
          "text": [
            "Cherry\n",
            "['Cherry', 'apple', 'Pear', 'Guava']\n",
            "['Cherry', 'Apple', 'Pear', 'Guava', 'Jackfruit']\n"
          ]
        }
      ]
    },
    {
      "cell_type": "code",
      "source": [
        "import random\n",
        "# 🚨 Don't change the code below 👇\n",
        "test_seed = int(input(\"Create a seed number: \"))\n",
        "random.seed(test_seed)\n",
        "\n",
        "# Split string method\n",
        "names_string = input(\"Give me everybody's names, separated by a comma. \")\n",
        "names = names_string.split(\", \")\n",
        "# 🚨 Don't change the code above 👆\n",
        "\n",
        "#Write your code below this line 👇\n",
        "num_items = len(names)\n",
        "random_choice = random.randint(0, num_items-1)\n",
        "person_who_will_pay = names[random_choice]\n",
        "print(person_who_will_pay + \" is going to buy the meal today!\")\n"
      ],
      "metadata": {
        "colab": {
          "base_uri": "https://localhost:8080/"
        },
        "id": "rQo35c0G9Wl0",
        "outputId": "ba09503b-b5d4-4823-f36f-3cfefbfab144"
      },
      "execution_count": null,
      "outputs": [
        {
          "output_type": "stream",
          "name": "stdout",
          "text": [
            "Create a seed number: 778\n",
            "Give me everybody's names, separated by a comma. Tapas, Das, Kumar, Mishra\n",
            "Tapas is going to buy the meal today!\n"
          ]
        }
      ]
    },
    {
      "cell_type": "code",
      "source": [
        "# Using random.choice module\n",
        "import random\n",
        "names_string = input(\"Give me everybody's names, separated by a comma. \")\n",
        "names = names_string.split(\", \")\n",
        "person_who_will_pay = random.choice(names)\n",
        "print(person_who_will_pay + \" is going to buy the meal today!\")"
      ],
      "metadata": {
        "colab": {
          "base_uri": "https://localhost:8080/"
        },
        "id": "sqC4fLdH-BqX",
        "outputId": "5b68be10-37b8-4afb-9750-5933a98d85cb"
      },
      "execution_count": null,
      "outputs": [
        {
          "output_type": "stream",
          "name": "stdout",
          "text": [
            "Give me everybody's names, separated by a comma. Tapas, Das, Kumar, Das, Mishra\n",
            "Kumar is going to buy the meal today!\n"
          ]
        }
      ]
    },
    {
      "cell_type": "code",
      "source": [
        "# nested lists\n",
        "fruits = [\"Strawberries\", \"Nectarines\", \"Apples\", \"Grapes\", \"Peaches\", \"Cherries\", \"Pears\"]\n",
        "vegetables = [\"Spinach\", \"Kale\", \"Tomatoes\", \"Celery\", \"Potatoes\"]\n",
        " \n",
        "dirty_dozen = [fruits, vegetables]\n",
        "print(dirty_dozen)\n",
        "print(dirty_dozen[1][1]) \n",
        "print(dirty_dozen[0][3])"
      ],
      "metadata": {
        "colab": {
          "base_uri": "https://localhost:8080/"
        },
        "id": "5_TaSNIM-oei",
        "outputId": "af7655db-08ec-46d6-d708-bcf8e1c8e932"
      },
      "execution_count": null,
      "outputs": [
        {
          "output_type": "stream",
          "name": "stdout",
          "text": [
            "[['Strawberries', 'Nectarines', 'Apples', 'Grapes', 'Peaches', 'Cherries', 'Pears'], ['Spinach', 'Kale', 'Tomatoes', 'Celery', 'Potatoes']]\n",
            "Kale\n",
            "Grapes\n"
          ]
        }
      ]
    },
    {
      "cell_type": "code",
      "source": [
        "# 🚨 Don't change the code below 👇\n",
        "row1 = [\"⬜️\",\"️⬜️\",\"️⬜️\"]\n",
        "row2 = [\"⬜️\",\"⬜️\",\"️⬜️\"]\n",
        "row3 = [\"⬜️️\",\"⬜️️\",\"⬜️️\"]\n",
        "map = [row1, row2, row3]\n",
        "print(f\"{row1}\\n{row2}\\n{row3}\")\n",
        "position = input(\"Where do you want to put the treasure? \")\n",
        "# 🚨 Don't change the code above 👆\n",
        "\n",
        "#Write your code below this row 👇\n",
        "horizontal = int(position[0])\n",
        "vertical = int(position[1])\n",
        "\n",
        "selected_row = map[vertical - 1]\n",
        "selected_row[horizontal - 1] = \"X\"\n",
        "\n",
        "#Write your code above this row 👆\n",
        "\n",
        "# 🚨 Don't change the code below 👇\n",
        "print(f\"{row1}\\n{row2}\\n{row3}\")"
      ],
      "metadata": {
        "colab": {
          "base_uri": "https://localhost:8080/"
        },
        "id": "iFO8pEfnpFTK",
        "outputId": "81e1cbcd-5011-4818-ab5f-4ead0e55cc1c"
      },
      "execution_count": null,
      "outputs": [
        {
          "output_type": "stream",
          "name": "stdout",
          "text": [
            "['⬜️', '️⬜️', '️⬜️']\n",
            "['⬜️', '⬜️', '️⬜️']\n",
            "['⬜️️', '⬜️️', '⬜️️']\n",
            "Where do you want to put the treasure? 13\n",
            "['⬜️', '️⬜️', '️⬜️']\n",
            "['⬜️', '⬜️', '️⬜️']\n",
            "['X', '⬜️️', '⬜️️']\n"
          ]
        }
      ]
    },
    {
      "cell_type": "code",
      "source": [
        "# Rock, paper & Scissor game\n",
        "import random\n",
        "\n",
        "rock = '''\n",
        "    _______\n",
        "---'   ____)\n",
        "      (_____)\n",
        "      (_____)\n",
        "      (____)\n",
        "---.__(___)\n",
        "'''\n",
        "\n",
        "paper = '''\n",
        "    _______\n",
        "---'   ____)____\n",
        "          ______)\n",
        "          _______)\n",
        "         _______)\n",
        "---.__________)\n",
        "'''\n",
        "\n",
        "scissors = '''\n",
        "    _______\n",
        "---'   ____)____\n",
        "          ______)\n",
        "       __________)\n",
        "      (____)\n",
        "---.__(___)\n",
        "'''\n",
        "\n",
        "#Write your code below this line 👇\n",
        "game_images = [rock, paper, scissors]\n",
        "\n",
        "user_choice = int(input(\"What do you choose? Type 0 for Rock, 1 for Paper or 2 for Scissors. \\n\"))\n",
        "\n",
        "if user_choice >= 3 or user_choice < 0:\n",
        "    print(\"You typed an invalid number. You lose!\")\n",
        "else:\n",
        "    print(game_images[user_choice])\n",
        "\n",
        "    computer_choice = random.randint(0, 2)\n",
        "    print(\"Computer chose:\")\n",
        "    print(game_images[computer_choice])\n",
        "\n",
        "    if user_choice == 0 and computer_choice == 2:\n",
        "        print(\"You Win!\")\n",
        "    elif computer_choice == 0 and user_choice == 2:\n",
        "        print(\"You lose!\")\n",
        "    elif computer_choice > user_choice:\n",
        "        print(\"You lose!\")\n",
        "    elif user_choice > computer_choice:\n",
        "        print(\"You win!\")\n",
        "    elif computer_choice == user_choice:\n",
        "        print(\"It's a draw!\")"
      ],
      "metadata": {
        "colab": {
          "base_uri": "https://localhost:8080/"
        },
        "id": "97qhYgPApdEd",
        "outputId": "578d6cf5-ec78-4bb5-a18f-6b2474907e66"
      },
      "execution_count": null,
      "outputs": [
        {
          "output_type": "stream",
          "name": "stdout",
          "text": [
            "What do you choose? Type 0 for Rock, 1 for Paper or 2 for Scissors. \n",
            "0\n",
            "\n",
            "    _______\n",
            "---'   ____)\n",
            "      (_____)\n",
            "      (_____)\n",
            "      (____)\n",
            "---.__(___)\n",
            "\n",
            "Computer chose:\n",
            "\n",
            "    _______\n",
            "---'   ____)____\n",
            "          ______)\n",
            "          _______)\n",
            "         _______)\n",
            "---.__________)\n",
            "\n",
            "You lose!\n"
          ]
        }
      ]
    },
    {
      "cell_type": "code",
      "source": [
        "# For loop - In this indentation is very important for loop\n",
        "\n",
        "fruits = [\"Apple\", \"Peach\", \"Mango\", \"Pear\"]\n",
        "for fruit in fruits:\n",
        "  print(fruit)\n",
        "  print(fruit + \" Pie\")\n",
        "print(fruits)   # it is not repeated due to indentation\n"
      ],
      "metadata": {
        "colab": {
          "base_uri": "https://localhost:8080/"
        },
        "id": "zjp4yyDAEeFf",
        "outputId": "a8b8b15e-f135-49df-fd49-6fd535878c63"
      },
      "execution_count": null,
      "outputs": [
        {
          "output_type": "stream",
          "name": "stdout",
          "text": [
            "Apple\n",
            "Apple Pie\n",
            "Peach\n",
            "Peach Pie\n",
            "Mango\n",
            "Mango Pie\n",
            "Pear\n",
            "Pear Pie\n",
            "['Apple', 'Peach', 'Mango', 'Pear']\n"
          ]
        }
      ]
    },
    {
      "cell_type": "code",
      "source": [
        "# 🚨 Don't change the code below 👇\n",
        "student_heights = input(\"Input a list of student heights \").split()\n",
        "for n in range(0, len(student_heights)):\n",
        "  student_heights[n] = int(student_heights[n])\n",
        "# 🚨 Don't change the code above 👆\n",
        "\n",
        "#Write your code below this row 👇\n",
        "total_height = sum(student_heights)\n",
        "number_of_students = len(student_heights)\n",
        "average_height = round(total_height / number_of_students)\n",
        "print(average_height)"
      ],
      "metadata": {
        "id": "_zO-ONwYOFSN"
      },
      "execution_count": null,
      "outputs": []
    },
    {
      "cell_type": "code",
      "source": [
        "# For loop\n",
        "# 🚨 Don't change the code below 👇\n",
        "student_heights = input(\"Input a list of student heights \").split()\n",
        "for n in range(0, len(student_heights)):\n",
        "  student_heights[n] = int(student_heights[n])\n",
        "# 🚨 Don't change the code above 👆\n",
        "\n",
        "#Write your code below this row 👇\n",
        "total_height = 0\n",
        "for height in student_heights:\n",
        "  total_height += height # or we can use total_height = total_height + height\n",
        "print(total_height)\n"
      ],
      "metadata": {
        "colab": {
          "base_uri": "https://localhost:8080/"
        },
        "id": "sh6SpSFXOZX-",
        "outputId": "ff6936b2-2e08-4be9-ef98-aebc08d4ad85"
      },
      "execution_count": null,
      "outputs": [
        {
          "output_type": "stream",
          "name": "stdout",
          "text": [
            "Input a list of student heights 10 10 10 10\n",
            "40\n"
          ]
        }
      ]
    },
    {
      "cell_type": "code",
      "source": [
        "# 🚨 Don't change the code below 👇\n",
        "student_heights = input(\"Input a list of student heights \").split()\n",
        "for n in range(0, len(student_heights)):\n",
        "  student_heights[n] = int(student_heights[n])\n",
        "# 🚨 Don't change the code above 👆\n",
        "\n",
        "#Write your code below this row 👇\n",
        "total_height = 0\n",
        "for height in student_heights:\n",
        "  total_height += height # or we can use total_height = total_height + height\n",
        "#print(total_height)\n",
        "\n",
        "number_of_students = 0\n",
        "for student in student_heights:\n",
        "  number_of_students += 1\n",
        "#print(number_of_students)\n",
        "\n",
        "average_height = round(total_height / number_of_students)\n",
        "print(average_height)"
      ],
      "metadata": {
        "colab": {
          "base_uri": "https://localhost:8080/"
        },
        "id": "U0gNEb2tQf9t",
        "outputId": "0715d86b-c1f7-4ddf-bd53-b3d704026bbc"
      },
      "execution_count": null,
      "outputs": [
        {
          "output_type": "stream",
          "name": "stdout",
          "text": [
            "Input a list of student heights 10 5 20 10 5\n",
            "10\n"
          ]
        }
      ]
    },
    {
      "cell_type": "code",
      "source": [
        "# 🚨 Don't change the code below 👇\n",
        "student_scores = input(\"Input a list of student scores \").split()\n",
        "for n in range(0, len(student_scores)):\n",
        "    student_scores[n] = int(student_scores[n])\n",
        "print(student_scores)\n",
        "# 🚨 Don't change the code above 👆\n",
        "\n",
        "#Write your code below this row 👇\n",
        "# print(max(student_scores))  # returns highest value\n",
        "# print(min(student_scores))  # returns lowest value\n",
        "\n",
        "highest_score = 0\n",
        "for score in student_scores:\n",
        "  if score > highest_score:\n",
        "    highest_score = score\n",
        "print(f\"The highest score in the class is: {highest_score}\")"
      ],
      "metadata": {
        "colab": {
          "base_uri": "https://localhost:8080/"
        },
        "id": "jqL2rOqXSSqi",
        "outputId": "775f1770-2266-46b5-9561-962516b4a8e6"
      },
      "execution_count": null,
      "outputs": [
        {
          "output_type": "stream",
          "name": "stdout",
          "text": [
            "Input a list of student scores 345 23 346 543 231 456\n",
            "[345, 23, 346, 543, 231, 456]\n",
            "The highest score in the class is: 543\n"
          ]
        }
      ]
    },
    {
      "cell_type": "code",
      "source": [
        "# for loop with range\n",
        "for number in range(1, 11, 3):  # 3 is the step and 1, 11 is the range. the last digit is not displayed\n",
        "  print(number)"
      ],
      "metadata": {
        "colab": {
          "base_uri": "https://localhost:8080/"
        },
        "id": "M5kb9ST2U5Au",
        "outputId": "7e95bbbe-d8b5-4116-9e04-62429ce6f48b"
      },
      "execution_count": null,
      "outputs": [
        {
          "output_type": "stream",
          "name": "stdout",
          "text": [
            "1\n",
            "4\n",
            "7\n",
            "10\n"
          ]
        }
      ]
    },
    {
      "cell_type": "code",
      "source": [
        "total = 0\n",
        "for number in range(1, 101):\n",
        "  total += number\n",
        "print(total)"
      ],
      "metadata": {
        "colab": {
          "base_uri": "https://localhost:8080/"
        },
        "id": "x3oEg2-0foQ9",
        "outputId": "9ccbcfbd-95d9-454e-a749-5f118a32d13f"
      },
      "execution_count": null,
      "outputs": [
        {
          "output_type": "stream",
          "name": "stdout",
          "text": [
            "5050\n"
          ]
        }
      ]
    },
    {
      "cell_type": "code",
      "source": [
        "# Sum of all even number from 1 to 100\n",
        "\n",
        "total = 0\n",
        "for number in range(2, 101, 2):\n",
        "  total += number\n",
        "print(total)"
      ],
      "metadata": {
        "colab": {
          "base_uri": "https://localhost:8080/"
        },
        "id": "PSKgQA5tgMZM",
        "outputId": "27df13a7-7193-47b0-c6d7-3e6e6da3884d"
      },
      "execution_count": null,
      "outputs": [
        {
          "output_type": "stream",
          "name": "stdout",
          "text": [
            "2550\n"
          ]
        }
      ]
    },
    {
      "cell_type": "code",
      "source": [
        "# Fizz buzz game\n",
        "\n",
        "for number in range(1,101):\n",
        "  if number % 3 == 0 and number % 5 == 0:\n",
        "    print(\"FizzBuzz\")\n",
        "  elif number % 3 == 0:\n",
        "    print(\"Fizz\")\n",
        "  elif number % 5 == 0:\n",
        "    print(\"Buzz\")\n",
        "  else:\n",
        "    print(number)\n",
        "    "
      ],
      "metadata": {
        "id": "NLtqDd7p3QOc"
      },
      "execution_count": null,
      "outputs": []
    },
    {
      "cell_type": "code",
      "source": [
        "#Password Generator Project {Easy}\n",
        "import random\n",
        "\n",
        "letters = [\n",
        "    'a', 'b', 'c', 'd', 'e', 'f', 'g', 'h', 'i', 'j', 'k', 'l', 'm', 'n', 'o',\n",
        "    'p', 'q', 'r', 's', 't', 'u', 'v', 'w', 'x', 'y', 'z', 'A', 'B', 'C', 'D',\n",
        "    'E', 'F', 'G', 'H', 'I', 'J', 'K', 'L', 'M', 'N', 'O', 'P', 'Q', 'R', 'S',\n",
        "    'T', 'U', 'V', 'W', 'X', 'Y', 'Z'\n",
        "]\n",
        "numbers = ['0', '1', '2', '3', '4', '5', '6', '7', '8', '9']\n",
        "symbols = ['!', '#', '$', '%', '&', '(', ')', '*', '+']\n",
        "\n",
        "print(\"Welcome to the PyPassword Generator!\")\n",
        "nr_letters = int(input(\"How many letters would you like in your password?\\n\"))\n",
        "nr_symbols = int(input(f\"How many symbols would you like?\\n\"))\n",
        "nr_numbers = int(input(f\"How many numbers would you like?\\n\"))\n",
        "\n",
        "#Eazy Level - Order not randomised:\n",
        "#e.g. 4 letter, 2 symbol, 2 number = JduE&!91\n",
        "password = \"\"\n",
        "\n",
        "for char in range(1, nr_letters + 1):\n",
        "    password += random.choice(letters)\n",
        "\n",
        "for char in range(1, nr_symbols + 1):\n",
        "    password += random.choice(symbols)\n",
        "\n",
        "for char in range(1, nr_numbers + 1):\n",
        "    password += random.choice(numbers)\n",
        "\n",
        "print(password)"
      ],
      "metadata": {
        "id": "kSL6iNRz4kam",
        "colab": {
          "base_uri": "https://localhost:8080/"
        },
        "outputId": "5ce09091-d7f9-482b-c86b-066cd5fcb11f"
      },
      "execution_count": 7,
      "outputs": [
        {
          "output_type": "stream",
          "name": "stdout",
          "text": [
            "Welcome to the PyPassword Generator!\n",
            "How many letters would you like in your password?\n",
            "3\n",
            "How many symbols would you like?\n",
            "2\n",
            "How many numbers would you like?\n",
            "2\n",
            "cIq#!63\n"
          ]
        }
      ]
    },
    {
      "cell_type": "code",
      "source": [
        "#Password Generator Project {hard}\n",
        "import random\n",
        "\n",
        "letters = [\n",
        "    'a', 'b', 'c', 'd', 'e', 'f', 'g', 'h', 'i', 'j', 'k', 'l', 'm', 'n', 'o',\n",
        "    'p', 'q', 'r', 's', 't', 'u', 'v', 'w', 'x', 'y', 'z', 'A', 'B', 'C', 'D',\n",
        "    'E', 'F', 'G', 'H', 'I', 'J', 'K', 'L', 'M', 'N', 'O', 'P', 'Q', 'R', 'S',\n",
        "    'T', 'U', 'V', 'W', 'X', 'Y', 'Z'\n",
        "]\n",
        "numbers = ['0', '1', '2', '3', '4', '5', '6', '7', '8', '9']\n",
        "symbols = ['!', '#', '$', '%', '&', '(', ')', '*', '+']\n",
        "\n",
        "print(\"Welcome to the PyPassword Generator!\")\n",
        "nr_letters = int(input(\"How many letters would you like in your password?\\n\"))\n",
        "nr_symbols = int(input(f\"How many symbols would you like?\\n\"))\n",
        "nr_numbers = int(input(f\"How many numbers would you like?\\n\"))\n",
        "\n",
        "password_list = []\n",
        "\n",
        "for char in range(1, nr_letters + 1):\n",
        "    password_list.append(random.choice(letters))\n",
        "\n",
        "for char in range(1, nr_symbols + 1):\n",
        "    password_list += random.choice(symbols)\n",
        "\n",
        "for char in range(1, nr_numbers + 1):\n",
        "    password_list += random.choice(numbers)\n",
        "\n",
        "print(password_list)\n",
        "random.shuffle(password_list)\n",
        "print(password_list)\n",
        "\n",
        "password = \"\"\n",
        "for char in password_list:\n",
        "  password += char\n",
        "\n",
        "print(f\"Your password is: {password}\")"
      ],
      "metadata": {
        "colab": {
          "base_uri": "https://localhost:8080/"
        },
        "id": "grdthdlfK3qx",
        "outputId": "aa3efaee-2050-454e-ca96-8f2b3db879f3"
      },
      "execution_count": null,
      "outputs": [
        {
          "output_type": "stream",
          "name": "stdout",
          "text": [
            "Welcome to the PyPassword Generator!\n",
            "How many letters would you like in your password?\n",
            "6\n",
            "How many symbols would you like?\n",
            "3\n",
            "How many numbers would you like?\n",
            "4\n",
            "['Z', 'l', 'f', 'x', 'F', 'p', ')', '+', '(', '2', '9', '4', '2']\n",
            "['F', 'Z', '9', '4', '2', 'p', ')', 'x', 'l', '+', 'f', '2', '(']\n",
            "Your password is: FZ942p)xl+f2(\n"
          ]
        }
      ]
    },
    {
      "cell_type": "code",
      "source": [
        "# Creating a function and calling it. Fuctions are customised bundle of all the redundant programming instructions which can be created by us.\n",
        "def my_function():\n",
        "  print(\"Hello\")\n",
        "  print(\"My Love!\")\n",
        "my_function()"
      ],
      "metadata": {
        "id": "QyEVXND7PRqN"
      },
      "execution_count": null,
      "outputs": []
    },
    {
      "cell_type": "code",
      "source": [
        "# Reeborg's world code - For functions\n",
        "def turn_around():\n",
        "    turn_left()\n",
        "    turn_left()\n",
        "\n",
        "move()\n",
        "move()\n",
        "turn_around()\n",
        "move()\n",
        "move()\n",
        "turn_around()\n",
        "\n",
        "# Creating a turn right function\n",
        "def turn_right():\n",
        "    turn_left()\n",
        "    turn_left()\n",
        "    turn_left() \n",
        "\n",
        "def jump():\n",
        "    move()\n",
        "    turn_left()\n",
        "    move()\n",
        "    turn_right()\n",
        "    move()\n",
        "    turn_right()\n",
        "    move()\n",
        "    turn_left()\n",
        "\n",
        "\n",
        "jump()\n",
        "jump()\n",
        "jump()\n",
        "jump()\n",
        "jump()\n",
        "jump()\n",
        "\n",
        "# Jump with for loop\n",
        "def turn_right():\n",
        "    turn_left()\n",
        "    turn_left()\n",
        "    turn_left() \n",
        "\n",
        "def jump():\n",
        "    move()\n",
        "    turn_left()\n",
        "    move()\n",
        "    turn_right()\n",
        "    move()\n",
        "    turn_right()\n",
        "    move()\n",
        "    turn_left()\n",
        "\n",
        "\n",
        "for step in range(6):\n",
        "    jump()\n"
      ],
      "metadata": {
        "id": "Ku4KLuTuYlpZ"
      },
      "execution_count": null,
      "outputs": []
    },
    {
      "cell_type": "code",
      "source": [],
      "metadata": {
        "id": "kDdeOR7ZamTc"
      },
      "execution_count": null,
      "outputs": []
    }
  ]
}